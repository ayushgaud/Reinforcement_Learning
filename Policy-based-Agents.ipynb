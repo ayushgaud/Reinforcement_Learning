{
 "cells": [
  {
   "cell_type": "markdown",
   "metadata": {
    "collapsed": true
   },
   "source": [
    "# Policy-based Agents\n",
    "[Tutorial 4](https://medium.com/@awjuliani/super-simple-reinforcement-learning-tutorial-part-2-ded33892c724#.nhunumou3)"
   ]
  },
  {
   "cell_type": "code",
   "execution_count": 1,
   "metadata": {
    "collapsed": false
   },
   "outputs": [
    {
     "name": "stderr",
     "output_type": "stream",
     "text": [
      "/usr/lib/python2.7/dist-packages/matplotlib/font_manager.py:273: UserWarning: Matplotlib is building the font cache using fc-list. This may take a moment.\n",
      "  warnings.warn('Matplotlib is building the font cache using fc-list. This may take a moment.')\n"
     ]
    }
   ],
   "source": [
    "import numpy as np\n",
    "import cPickle as pickle\n",
    "import tensorflow as tf\n",
    "%matplotlib inline\n",
    "import matplotlib.pyplot as plt\n",
    "import math"
   ]
  },
  {
   "cell_type": "code",
   "execution_count": 2,
   "metadata": {
    "collapsed": false
   },
   "outputs": [
    {
     "name": "stderr",
     "output_type": "stream",
     "text": [
      "[2016-12-29 00:03:36,453] Making new env: CartPole-v0\n"
     ]
    }
   ],
   "source": [
    "import gym\n",
    "env = gym.make('CartPole-v0')"
   ]
  },
  {
   "cell_type": "markdown",
   "metadata": {},
   "source": [
    "Testing with random actions"
   ]
  },
  {
   "cell_type": "code",
   "execution_count": 3,
   "metadata": {
    "collapsed": false
   },
   "outputs": [
    {
     "name": "stdout",
     "output_type": "stream",
     "text": [
      "Reward for this episode was: 30.0\n",
      "Reward for this episode was: 17.0\n",
      "Reward for this episode was: 16.0\n",
      "Reward for this episode was: 14.0\n",
      "Reward for this episode was: 21.0\n",
      "Reward for this episode was: 15.0\n",
      "Reward for this episode was: 24.0\n",
      "Reward for this episode was: 22.0\n",
      "Reward for this episode was: 36.0\n",
      "Reward for this episode was: 18.0\n"
     ]
    }
   ],
   "source": [
    "env.reset()\n",
    "random_episodes = 0\n",
    "reward_sum = 0\n",
    "while random_episodes < 10:\n",
    "    env.render()\n",
    "    observation, reward, done, _ = env.step(np.random.randint(0,2))\n",
    "    reward_sum += reward\n",
    "    if done:\n",
    "        random_episodes += 1\n",
    "        print \"Reward for this episode was:\",reward_sum\n",
    "        reward_sum = 0\n",
    "        env.reset()"
   ]
  },
  {
   "cell_type": "markdown",
   "metadata": {},
   "source": [
    "Using Neural Networks"
   ]
  },
  {
   "cell_type": "code",
   "execution_count": 7,
   "metadata": {
    "collapsed": true
   },
   "outputs": [],
   "source": [
    "# hyperparameters\n",
    "H = 10 # number of hidden layer neurons\n",
    "batch_size = 50 # every how many episodes to do a param update?\n",
    "learning_rate = 1e-2 # feel free to play with this to train faster or more stably.\n",
    "gamma = 0.99 # discount factor for reward\n",
    "\n",
    "D = 4 # input dimensionality\n",
    "\n",
    "tf.reset_default_graph()\n",
    "\n",
    "#This defines the network as it goes from taking an observation of the environment to \n",
    "#giving a probability of chosing to the action of moving left or right.\n",
    "observations = tf.placeholder(tf.float32, [None,D] , name=\"input_x\")\n",
    "W1 = tf.get_variable(\"W1\", shape=[D, H],\n",
    "           initializer=tf.contrib.layers.xavier_initializer())\n",
    "layer1 = tf.nn.relu(tf.matmul(observations,W1))\n",
    "W2 = tf.get_variable(\"W2\", shape=[H, 1],\n",
    "           initializer=tf.contrib.layers.xavier_initializer())\n",
    "score = tf.matmul(layer1,W2)\n",
    "probability = tf.nn.sigmoid(score)\n",
    "\n",
    "#From here we define the parts of the network needed for learning a good policy.\n",
    "tvars = tf.trainable_variables()\n",
    "input_y = tf.placeholder(tf.float32,[None,1], name=\"input_y\")\n",
    "advantages = tf.placeholder(tf.float32,name=\"reward_signal\")\n",
    "\n",
    "# The loss function. This sends the weights in the direction of making actions \n",
    "# that gave good advantage (reward over time) more likely, and actions that didn't less likely.\n",
    "loglik = tf.log(input_y*(input_y - probability) + (1 - input_y)*(input_y + probability))\n",
    "loss = -tf.reduce_mean(loglik * advantages) \n",
    "newGrads = tf.gradients(loss,tvars)\n",
    "\n",
    "# Once we have collected a series of gradients from multiple episodes, we apply them.\n",
    "# We don't just apply gradeients after every episode in order to account for noise in the reward signal.\n",
    "adam = tf.train.AdamOptimizer(learning_rate=learning_rate) # Our optimizer\n",
    "W1Grad = tf.placeholder(tf.float32,name=\"batch_grad1\") # Placeholders to send the final gradients through when we update.\n",
    "W2Grad = tf.placeholder(tf.float32,name=\"batch_grad2\")\n",
    "batchGrad = [W1Grad,W2Grad]\n",
    "updateGrads = adam.apply_gradients(zip(batchGrad,tvars))"
   ]
  },
  {
   "cell_type": "code",
   "execution_count": 8,
   "metadata": {
    "collapsed": true
   },
   "outputs": [],
   "source": [
    "def discount_rewards(r):\n",
    "    \"\"\" take 1D float array of rewards and compute discounted reward \"\"\"\n",
    "    discounted_r = np.zeros_like(r)\n",
    "    running_add = 0\n",
    "    for t in reversed(xrange(0, r.size)):\n",
    "        running_add = running_add * gamma + r[t]\n",
    "        discounted_r[t] = running_add\n",
    "    return discounted_r"
   ]
  },
  {
   "cell_type": "code",
   "execution_count": 17,
   "metadata": {
    "collapsed": false,
    "scrolled": true
   },
   "outputs": [
    {
     "name": "stdout",
     "output_type": "stream",
     "text": [
      "Average reward for episode 14.820000.  Total average reward 14.820000.\n",
      "Average reward for episode 20.260000.  Total average reward 14.874400.\n",
      "Average reward for episode 18.720000.  Total average reward 14.912856.\n",
      "Average reward for episode 17.620000.  Total average reward 14.939927.\n",
      "Average reward for episode 16.980000.  Total average reward 14.960328.\n",
      "Average reward for episode 18.860000.  Total average reward 14.999325.\n",
      "Average reward for episode 20.140000.  Total average reward 15.050732.\n",
      "Average reward for episode 17.580000.  Total average reward 15.076024.\n",
      "Average reward for episode 19.100000.  Total average reward 15.116264.\n",
      "Average reward for episode 19.740000.  Total average reward 15.162501.\n",
      "Average reward for episode 19.720000.  Total average reward 15.208076.\n",
      "Average reward for episode 18.200000.  Total average reward 15.237996.\n",
      "Average reward for episode 19.560000.  Total average reward 15.281216.\n",
      "Average reward for episode 21.560000.  Total average reward 15.344004.\n",
      "Average reward for episode 18.520000.  Total average reward 15.375764.\n",
      "Average reward for episode 21.000000.  Total average reward 15.432006.\n",
      "Average reward for episode 21.660000.  Total average reward 15.494286.\n",
      "Average reward for episode 25.180000.  Total average reward 15.591143.\n",
      "Average reward for episode 22.420000.  Total average reward 15.659432.\n",
      "Average reward for episode 21.740000.  Total average reward 15.720237.\n",
      "Average reward for episode 23.620000.  Total average reward 15.799235.\n",
      "Average reward for episode 24.160000.  Total average reward 15.882842.\n",
      "Average reward for episode 26.560000.  Total average reward 15.989614.\n",
      "Average reward for episode 28.040000.  Total average reward 16.110118.\n",
      "Average reward for episode 24.660000.  Total average reward 16.195617.\n",
      "Average reward for episode 28.140000.  Total average reward 16.315061.\n",
      "Average reward for episode 27.660000.  Total average reward 16.428510.\n",
      "Average reward for episode 28.620000.  Total average reward 16.550425.\n",
      "Average reward for episode 29.440000.  Total average reward 16.679321.\n",
      "Average reward for episode 32.280000.  Total average reward 16.835327.\n",
      "Average reward for episode 28.320000.  Total average reward 16.950174.\n",
      "Average reward for episode 30.120000.  Total average reward 17.081872.\n",
      "Average reward for episode 31.980000.  Total average reward 17.230854.\n",
      "Average reward for episode 35.660000.  Total average reward 17.415145.\n",
      "Average reward for episode 33.280000.  Total average reward 17.573794.\n",
      "Average reward for episode 34.300000.  Total average reward 17.741056.\n",
      "Average reward for episode 37.040000.  Total average reward 17.934045.\n",
      "Average reward for episode 31.760000.  Total average reward 18.072305.\n",
      "Average reward for episode 36.100000.  Total average reward 18.252582.\n",
      "Average reward for episode 38.400000.  Total average reward 18.454056.\n",
      "Average reward for episode 38.540000.  Total average reward 18.654915.\n",
      "Average reward for episode 37.740000.  Total average reward 18.845766.\n",
      "Average reward for episode 33.500000.  Total average reward 18.992309.\n",
      "Average reward for episode 38.140000.  Total average reward 19.183785.\n",
      "Average reward for episode 35.220000.  Total average reward 19.344148.\n",
      "Average reward for episode 40.120000.  Total average reward 19.551906.\n",
      "Average reward for episode 38.320000.  Total average reward 19.739587.\n",
      "Average reward for episode 42.400000.  Total average reward 19.966191.\n",
      "Average reward for episode 35.520000.  Total average reward 20.121729.\n",
      "Average reward for episode 44.020000.  Total average reward 20.360712.\n",
      "Average reward for episode 41.240000.  Total average reward 20.569505.\n",
      "Average reward for episode 43.400000.  Total average reward 20.797810.\n",
      "Average reward for episode 43.180000.  Total average reward 21.021632.\n",
      "Average reward for episode 49.700000.  Total average reward 21.308415.\n",
      "Average reward for episode 39.560000.  Total average reward 21.490931.\n",
      "Average reward for episode 48.880000.  Total average reward 21.764822.\n",
      "Average reward for episode 45.700000.  Total average reward 22.004174.\n",
      "Average reward for episode 40.980000.  Total average reward 22.193932.\n",
      "Average reward for episode 49.760000.  Total average reward 22.469593.\n",
      "Average reward for episode 44.060000.  Total average reward 22.685497.\n",
      "Average reward for episode 49.300000.  Total average reward 22.951642.\n",
      "Average reward for episode 45.940000.  Total average reward 23.181525.\n",
      "Average reward for episode 51.280000.  Total average reward 23.462510.\n",
      "Average reward for episode 47.560000.  Total average reward 23.703485.\n",
      "Average reward for episode 46.820000.  Total average reward 23.934650.\n",
      "Average reward for episode 46.580000.  Total average reward 24.161104.\n",
      "Average reward for episode 51.840000.  Total average reward 24.437893.\n",
      "Average reward for episode 57.820000.  Total average reward 24.771714.\n",
      "Average reward for episode 54.000000.  Total average reward 25.063997.\n",
      "Average reward for episode 56.060000.  Total average reward 25.373957.\n",
      "Average reward for episode 51.320000.  Total average reward 25.633417.\n",
      "Average reward for episode 49.340000.  Total average reward 25.870483.\n",
      "Average reward for episode 57.500000.  Total average reward 26.186778.\n",
      "Average reward for episode 57.680000.  Total average reward 26.501710.\n",
      "Average reward for episode 50.280000.  Total average reward 26.739493.\n",
      "Average reward for episode 65.700000.  Total average reward 27.129098.\n",
      "Average reward for episode 55.480000.  Total average reward 27.412607.\n",
      "Average reward for episode 58.300000.  Total average reward 27.721481.\n",
      "Average reward for episode 60.580000.  Total average reward 28.050066.\n",
      "Average reward for episode 65.800000.  Total average reward 28.427566.\n",
      "Average reward for episode 61.080000.  Total average reward 28.754090.\n",
      "Average reward for episode 65.220000.  Total average reward 29.118749.\n",
      "Average reward for episode 68.140000.  Total average reward 29.508962.\n",
      "Average reward for episode 67.400000.  Total average reward 29.887872.\n",
      "Average reward for episode 68.240000.  Total average reward 30.271393.\n",
      "Average reward for episode 63.940000.  Total average reward 30.608079.\n",
      "Average reward for episode 66.560000.  Total average reward 30.967599.\n",
      "Average reward for episode 70.480000.  Total average reward 31.362723.\n",
      "Average reward for episode 63.600000.  Total average reward 31.685095.\n",
      "Average reward for episode 75.420000.  Total average reward 32.122444.\n",
      "Average reward for episode 77.380000.  Total average reward 32.575020.\n",
      "Average reward for episode 80.560000.  Total average reward 33.054870.\n",
      "Average reward for episode 77.100000.  Total average reward 33.495321.\n",
      "Average reward for episode 75.740000.  Total average reward 33.917768.\n",
      "Average reward for episode 98.560000.  Total average reward 34.564190.\n",
      "Average reward for episode 97.460000.  Total average reward 35.193148.\n",
      "Average reward for episode 99.040000.  Total average reward 35.831617.\n",
      "Average reward for episode 87.260000.  Total average reward 36.345901.\n",
      "Average reward for episode 100.860000.  Total average reward 36.991042.\n",
      "Average reward for episode 122.660000.  Total average reward 37.847731.\n",
      "Average reward for episode 103.480000.  Total average reward 38.504054.\n",
      "Average reward for episode 99.740000.  Total average reward 39.116413.\n",
      "Average reward for episode 135.880000.  Total average reward 40.084049.\n",
      "Average reward for episode 130.400000.  Total average reward 40.987209.\n",
      "Average reward for episode 126.040000.  Total average reward 41.837737.\n",
      "Average reward for episode 119.680000.  Total average reward 42.616159.\n",
      "Average reward for episode 116.800000.  Total average reward 43.357998.\n",
      "Average reward for episode 140.300000.  Total average reward 44.327418.\n",
      "Average reward for episode 140.500000.  Total average reward 45.289143.\n",
      "Average reward for episode 139.800000.  Total average reward 46.234252.\n",
      "Average reward for episode 148.860000.  Total average reward 47.260510.\n",
      "Average reward for episode 179.220000.  Total average reward 48.580104.\n",
      "Average reward for episode 169.140000.  Total average reward 49.785703.\n",
      "Average reward for episode 146.440000.  Total average reward 50.752246.\n",
      "Average reward for episode 155.760000.  Total average reward 51.802324.\n",
      "Average reward for episode 191.160000.  Total average reward 53.195901.\n",
      "Average reward for episode 200.920000.  Total average reward 54.673142.\n",
      "Task solved in 5850 episodes!\n",
      "5850 Episodes completed.\n"
     ]
    }
   ],
   "source": [
    "xs,hs,dlogps,drs,ys,tfps = [],[],[],[],[],[]\n",
    "running_reward = None\n",
    "reward_sum = 0\n",
    "episode_number = 1\n",
    "total_episodes = 10000\n",
    "init = tf.initialize_all_variables()\n",
    "\n",
    "# Launch the graph\n",
    "with tf.Session() as sess:\n",
    "    rendering = False\n",
    "    sess.run(init)\n",
    "    observation = env.reset() # Obtain an initial observation of the environment\n",
    "\n",
    "    # Reset the gradient placeholder. We will collect gradients in \n",
    "    # gradBuffer until we are ready to update our policy network. \n",
    "    gradBuffer = sess.run(tvars)\n",
    "    for ix,grad in enumerate(gradBuffer):\n",
    "        gradBuffer[ix] = grad * 0\n",
    "    \n",
    "    while episode_number <= total_episodes:\n",
    "        \n",
    "        # Rendering the environment slows things down, \n",
    "        # so let's only look at it once our agent is doing a good job.\n",
    "        if reward_sum/batch_size > 150 or rendering == True : \n",
    "            env.render()\n",
    "            rendering = True\n",
    "            \n",
    "        # Make sure the observation is in a shape the network can handle.\n",
    "        x = np.reshape(observation,[1,D])\n",
    "        \n",
    "        # Run the policy network and get an action to take. \n",
    "        tfprob = sess.run(probability,feed_dict={observations: x})\n",
    "        action = 1 if np.random.uniform() < tfprob else 0\n",
    "        \n",
    "        xs.append(x) # observation\n",
    "        y = 1 if action == 0 else 0 # a \"fake label\"\n",
    "        ys.append(y)\n",
    "\n",
    "        # step the environment and get new measurements\n",
    "        observation, reward, done, info = env.step(action)\n",
    "        reward_sum += reward\n",
    "\n",
    "        drs.append(reward) # record reward (has to be done after we call step() to get reward for previous action)\n",
    "\n",
    "        if done: \n",
    "            episode_number += 1\n",
    "            # stack together all inputs, hidden states, action gradients, and rewards for this episode\n",
    "            epx = np.vstack(xs)\n",
    "            epy = np.vstack(ys)\n",
    "            epr = np.vstack(drs)\n",
    "            tfp = tfps\n",
    "            xs,hs,dlogps,drs,ys,tfps = [],[],[],[],[],[] # reset array memory\n",
    "\n",
    "            # compute the discounted reward backwards through time\n",
    "            discounted_epr = discount_rewards(epr)\n",
    "            # size the rewards to be unit normal (helps control the gradient estimator variance)\n",
    "            discounted_epr -= np.mean(discounted_epr)\n",
    "            discounted_epr /= np.std(discounted_epr)\n",
    "            \n",
    "            # Get the gradient for this episode, and save it in the gradBuffer\n",
    "            tGrad = sess.run(newGrads,feed_dict={observations: epx, input_y: epy, advantages: discounted_epr})\n",
    "            for ix,grad in enumerate(tGrad):\n",
    "                gradBuffer[ix] += grad\n",
    "                \n",
    "            # If we have completed enough episodes, then update the policy network with our gradients.\n",
    "            if episode_number % batch_size == 0: \n",
    "                sess.run(updateGrads,feed_dict={W1Grad: gradBuffer[0],W2Grad:gradBuffer[1]})\n",
    "                for ix,grad in enumerate(gradBuffer):\n",
    "                    gradBuffer[ix] = grad * 0\n",
    "                \n",
    "                # Give a summary of how well our network is doing for each batch of episodes.\n",
    "                running_reward = reward_sum if running_reward is None else running_reward * 0.99 + reward_sum * 0.01\n",
    "                print 'Average reward for episode %f.  Total average reward %f.' % (reward_sum/batch_size, running_reward/batch_size)\n",
    "                \n",
    "                if reward_sum/batch_size > 200: \n",
    "                    print \"Task solved in\",episode_number,'episodes!'\n",
    "                    break\n",
    "                    \n",
    "                reward_sum = 0\n",
    "            \n",
    "            observation = env.reset()\n",
    "        \n",
    "print episode_number,'Episodes completed.'"
   ]
  }
 ],
 "metadata": {
  "kernelspec": {
   "display_name": "Python 2",
   "language": "python",
   "name": "python2"
  },
  "language_info": {
   "codemirror_mode": {
    "name": "ipython",
    "version": 2
   },
   "file_extension": ".py",
   "mimetype": "text/x-python",
   "name": "python",
   "nbconvert_exporter": "python",
   "pygments_lexer": "ipython2",
   "version": "2.7.12"
  }
 },
 "nbformat": 4,
 "nbformat_minor": 1
}
